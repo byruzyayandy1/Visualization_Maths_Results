{
  "nbformat": 4,
  "nbformat_minor": 0,
  "metadata": {
    "colab": {
      "name": "Visualization_Maths_Results.ipynb",
      "version": "0.3.2",
      "provenance": [],
      "include_colab_link": true
    },
    "language_info": {
      "codemirror_mode": {
        "name": "ipython",
        "version": 3
      },
      "file_extension": ".py",
      "mimetype": "text/x-python",
      "name": "python",
      "nbconvert_exporter": "python",
      "pygments_lexer": "ipython3",
      "version": "3.7.3"
    },
    "kernelspec": {
      "display_name": "Python 3",
      "language": "python",
      "name": "python3"
    }
  },
  "cells": [
    {
      "cell_type": "markdown",
      "metadata": {
        "id": "view-in-github",
        "colab_type": "text"
      },
      "source": [
        "<a href=\"https://colab.research.google.com/github/byruzyayandy1/Visualization_Maths_Results/blob/master/Visualization_Maths_Results.ipynb\" target=\"_parent\"><img src=\"https://colab.research.google.com/assets/colab-badge.svg\" alt=\"Open In Colab\"/></a>"
      ]
    },
    {
      "cell_type": "code",
      "metadata": {
        "id": "yDpooKB44xSp",
        "colab_type": "code",
        "colab": {}
      },
      "source": [
        "import pandas as pd\n",
        "import numpy as np\n",
        "import matplotlib as plt\n",
        "import plotly.plotly as py \n",
        "import plotly as pl\n",
        "import plotly.figure_factory as ff\n",
        "import plotly.graph_objs as go\n",
        "data = pd.read_csv('StudentsPerformance.csv')\n",
        "pl.tools.set_credentials_file(username='byruzyayandy', api_key='dwJ7oTmaA2DH5yjxlHUZ')"
      ],
      "execution_count": 0,
      "outputs": []
    },
    {
      "cell_type": "markdown",
      "metadata": {
        "id": "BYwAVrSC4xTU",
        "colab_type": "text"
      },
      "source": [
        "The dataset I chose for this assignment was found on kaggle(https://www.kaggle.com/spscientist/students-performance-in-exams).  It contains 1000 exam scores and some background infromation on those students. Does the students parent's level of education affect the math exam scores? Is there a significant difference of math scores between the genders?\n",
        " \n",
        "\n",
        "\n",
        "\n",
        "\n",
        "\n",
        "CLEANING of DATA"
      ]
    },
    {
      "cell_type": "code",
      "metadata": {
        "id": "_j2RV48r4xTg",
        "colab_type": "code",
        "outputId": "c99766c9-ec7b-4eb1-9f63-e31387586f90",
        "colab": {}
      },
      "source": [
        "data.head()\n",
        "\n",
        "#KEY for qualitative variables\n",
        "\n",
        "# MALE = 1  & Female = 0       completed = 1      none = 0\n",
        "# group a = 1       some highschool = 0\n",
        "# group b = 2       highschool = 1\n",
        "# group c = 3       some college = 2 \n",
        "# group d = 4       associates = 3\n",
        "# group e = 5       bachelors = 4\n",
        "#                   masters = 5\n"
      ],
      "execution_count": 0,
      "outputs": [
        {
          "output_type": "execute_result",
          "data": {
            "text/html": [
              "<div>\n",
              "<style scoped>\n",
              "    .dataframe tbody tr th:only-of-type {\n",
              "        vertical-align: middle;\n",
              "    }\n",
              "\n",
              "    .dataframe tbody tr th {\n",
              "        vertical-align: top;\n",
              "    }\n",
              "\n",
              "    .dataframe thead th {\n",
              "        text-align: right;\n",
              "    }\n",
              "</style>\n",
              "<table border=\"1\" class=\"dataframe\">\n",
              "  <thead>\n",
              "    <tr style=\"text-align: right;\">\n",
              "      <th></th>\n",
              "      <th>gender</th>\n",
              "      <th>race/ethnicity</th>\n",
              "      <th>parental level of education</th>\n",
              "      <th>lunch</th>\n",
              "      <th>test preparation course</th>\n",
              "      <th>math score</th>\n",
              "      <th>reading score</th>\n",
              "      <th>writing score</th>\n",
              "    </tr>\n",
              "  </thead>\n",
              "  <tbody>\n",
              "    <tr>\n",
              "      <th>0</th>\n",
              "      <td>female</td>\n",
              "      <td>group B</td>\n",
              "      <td>bachelor's degree</td>\n",
              "      <td>standard</td>\n",
              "      <td>none</td>\n",
              "      <td>72</td>\n",
              "      <td>72</td>\n",
              "      <td>74</td>\n",
              "    </tr>\n",
              "    <tr>\n",
              "      <th>1</th>\n",
              "      <td>female</td>\n",
              "      <td>group C</td>\n",
              "      <td>some college</td>\n",
              "      <td>standard</td>\n",
              "      <td>completed</td>\n",
              "      <td>69</td>\n",
              "      <td>90</td>\n",
              "      <td>88</td>\n",
              "    </tr>\n",
              "    <tr>\n",
              "      <th>2</th>\n",
              "      <td>female</td>\n",
              "      <td>group B</td>\n",
              "      <td>master's degree</td>\n",
              "      <td>standard</td>\n",
              "      <td>none</td>\n",
              "      <td>90</td>\n",
              "      <td>95</td>\n",
              "      <td>93</td>\n",
              "    </tr>\n",
              "    <tr>\n",
              "      <th>3</th>\n",
              "      <td>male</td>\n",
              "      <td>group A</td>\n",
              "      <td>associate's degree</td>\n",
              "      <td>free/reduced</td>\n",
              "      <td>none</td>\n",
              "      <td>47</td>\n",
              "      <td>57</td>\n",
              "      <td>44</td>\n",
              "    </tr>\n",
              "    <tr>\n",
              "      <th>4</th>\n",
              "      <td>male</td>\n",
              "      <td>group C</td>\n",
              "      <td>some college</td>\n",
              "      <td>standard</td>\n",
              "      <td>none</td>\n",
              "      <td>76</td>\n",
              "      <td>78</td>\n",
              "      <td>75</td>\n",
              "    </tr>\n",
              "  </tbody>\n",
              "</table>\n",
              "</div>"
            ],
            "text/plain": [
              "   gender race/ethnicity parental level of education         lunch  \\\n",
              "0  female        group B           bachelor's degree      standard   \n",
              "1  female        group C                some college      standard   \n",
              "2  female        group B             master's degree      standard   \n",
              "3    male        group A          associate's degree  free/reduced   \n",
              "4    male        group C                some college      standard   \n",
              "\n",
              "  test preparation course  math score  reading score  writing score  \n",
              "0                    none          72             72             74  \n",
              "1               completed          69             90             88  \n",
              "2                    none          90             95             93  \n",
              "3                    none          47             57             44  \n",
              "4                    none          76             78             75  "
            ]
          },
          "metadata": {
            "tags": []
          },
          "execution_count": 348
        }
      ]
    },
    {
      "cell_type": "code",
      "metadata": {
        "id": "xZYTEpus4xT7",
        "colab_type": "code",
        "colab": {}
      },
      "source": [
        "data = data.replace(to_replace='group A', value=1)\n",
        "data = data.replace(to_replace='group B', value=2)\n",
        "data = data.replace(to_replace='group C', value=3)\n",
        "data = data.replace(to_replace='group D', value=4)\n",
        "data = data.replace(to_replace='group E', value=5)\n"
      ],
      "execution_count": 0,
      "outputs": []
    },
    {
      "cell_type": "code",
      "metadata": {
        "id": "QHRVuDBG4xUE",
        "colab_type": "code",
        "colab": {}
      },
      "source": [
        "data.head()\n",
        "data = data.replace(to_replace='female', value=0)\n",
        "data = data.replace(to_replace='male', value=1)\n"
      ],
      "execution_count": 0,
      "outputs": []
    },
    {
      "cell_type": "code",
      "metadata": {
        "id": "mcwR9PLx4xUR",
        "colab_type": "code",
        "colab": {}
      },
      "source": [
        "data['parental level of education'].unique()\n",
        "data = data.replace(to_replace='some high school', value=0)\n",
        "data = data.replace(to_replace='high school', value=1)\n",
        "data = data.replace(to_replace=\"some college\", value=2)\n",
        "data = data.replace(to_replace=\"associate's degree\", value=3)\n",
        "data = data.replace(to_replace=\"bachelor's degree\", value=4)\n",
        "data = data.replace(to_replace=\"master's degree\", value=5)"
      ],
      "execution_count": 0,
      "outputs": []
    },
    {
      "cell_type": "code",
      "metadata": {
        "id": "JWErkZub4xUf",
        "colab_type": "code",
        "colab": {}
      },
      "source": [
        "data.lunch.unique()\n",
        "data = data.replace(to_replace='standard', value=1)\n",
        "data = data.replace(to_replace='free/reduced', value=0)\n"
      ],
      "execution_count": 0,
      "outputs": []
    },
    {
      "cell_type": "code",
      "metadata": {
        "id": "yR4yxziR4xU1",
        "colab_type": "code",
        "colab": {}
      },
      "source": [
        "data['test preparation course'].unique()\n",
        "data = data.replace(to_replace='completed', value=1)\n",
        "data = data.replace(to_replace='none', value=0)\n"
      ],
      "execution_count": 0,
      "outputs": []
    },
    {
      "cell_type": "code",
      "metadata": {
        "id": "BL3XfL2N4xVD",
        "colab_type": "code",
        "outputId": "13654dda-f21f-4d82-ce37-248bbffce655",
        "colab": {}
      },
      "source": [
        "org = data\n",
        "df = data\n",
        "df.head()\n"
      ],
      "execution_count": 0,
      "outputs": [
        {
          "output_type": "execute_result",
          "data": {
            "text/html": [
              "<div>\n",
              "<style scoped>\n",
              "    .dataframe tbody tr th:only-of-type {\n",
              "        vertical-align: middle;\n",
              "    }\n",
              "\n",
              "    .dataframe tbody tr th {\n",
              "        vertical-align: top;\n",
              "    }\n",
              "\n",
              "    .dataframe thead th {\n",
              "        text-align: right;\n",
              "    }\n",
              "</style>\n",
              "<table border=\"1\" class=\"dataframe\">\n",
              "  <thead>\n",
              "    <tr style=\"text-align: right;\">\n",
              "      <th></th>\n",
              "      <th>gender</th>\n",
              "      <th>race/ethnicity</th>\n",
              "      <th>parental level of education</th>\n",
              "      <th>lunch</th>\n",
              "      <th>test preparation course</th>\n",
              "      <th>math score</th>\n",
              "      <th>reading score</th>\n",
              "      <th>writing score</th>\n",
              "    </tr>\n",
              "  </thead>\n",
              "  <tbody>\n",
              "    <tr>\n",
              "      <th>0</th>\n",
              "      <td>0</td>\n",
              "      <td>2</td>\n",
              "      <td>4</td>\n",
              "      <td>1</td>\n",
              "      <td>0</td>\n",
              "      <td>72</td>\n",
              "      <td>72</td>\n",
              "      <td>74</td>\n",
              "    </tr>\n",
              "    <tr>\n",
              "      <th>1</th>\n",
              "      <td>0</td>\n",
              "      <td>3</td>\n",
              "      <td>2</td>\n",
              "      <td>1</td>\n",
              "      <td>1</td>\n",
              "      <td>69</td>\n",
              "      <td>90</td>\n",
              "      <td>88</td>\n",
              "    </tr>\n",
              "    <tr>\n",
              "      <th>2</th>\n",
              "      <td>0</td>\n",
              "      <td>2</td>\n",
              "      <td>5</td>\n",
              "      <td>1</td>\n",
              "      <td>0</td>\n",
              "      <td>90</td>\n",
              "      <td>95</td>\n",
              "      <td>93</td>\n",
              "    </tr>\n",
              "    <tr>\n",
              "      <th>3</th>\n",
              "      <td>1</td>\n",
              "      <td>1</td>\n",
              "      <td>3</td>\n",
              "      <td>0</td>\n",
              "      <td>0</td>\n",
              "      <td>47</td>\n",
              "      <td>57</td>\n",
              "      <td>44</td>\n",
              "    </tr>\n",
              "    <tr>\n",
              "      <th>4</th>\n",
              "      <td>1</td>\n",
              "      <td>3</td>\n",
              "      <td>2</td>\n",
              "      <td>1</td>\n",
              "      <td>0</td>\n",
              "      <td>76</td>\n",
              "      <td>78</td>\n",
              "      <td>75</td>\n",
              "    </tr>\n",
              "  </tbody>\n",
              "</table>\n",
              "</div>"
            ],
            "text/plain": [
              "   gender  race/ethnicity  parental level of education  lunch  \\\n",
              "0       0               2                            4      1   \n",
              "1       0               3                            2      1   \n",
              "2       0               2                            5      1   \n",
              "3       1               1                            3      0   \n",
              "4       1               3                            2      1   \n",
              "\n",
              "   test preparation course  math score  reading score  writing score  \n",
              "0                        0          72             72             74  \n",
              "1                        1          69             90             88  \n",
              "2                        0          90             95             93  \n",
              "3                        0          47             57             44  \n",
              "4                        0          76             78             75  "
            ]
          },
          "metadata": {
            "tags": []
          },
          "execution_count": 354
        }
      ]
    },
    {
      "cell_type": "markdown",
      "metadata": {
        "id": "tzAyJpSw4xVX",
        "colab_type": "text"
      },
      "source": [
        ""
      ]
    },
    {
      "cell_type": "code",
      "metadata": {
        "id": "HrYTzzFF4xVf",
        "colab_type": "code",
        "colab": {}
      },
      "source": [
        "import plotly.plotly as py\n",
        "import plotly.figure_factory as ff"
      ],
      "execution_count": 0,
      "outputs": []
    },
    {
      "cell_type": "code",
      "metadata": {
        "id": "Wrz0WVk_4xVo",
        "colab_type": "code",
        "colab": {}
      },
      "source": [
        "trace1 = go.Splom(dimensions=[dict(label='Math Scores', \n",
        "                                 values=df['math score']),\n",
        "                             dict(label='Parent Lvl of Ed', \n",
        "                                 values=df['parental level of education']),\n",
        "                             dict(label='Writing Score', \n",
        "                                 values=df['writing score']),\n",
        "                             dict(label='Gender', \n",
        "                                 values=df['gender'])],\n",
        "                             \n",
        "                    marker =dict(size=7,\n",
        "                                showscale=False,\n",
        "                                line=dict(width=0.5,\n",
        "                                           )))\n",
        "axis =dict(showline=True,\n",
        "         zeroline=False,\n",
        "         gridcolor='#fff',\n",
        "         ticklen=4)"
      ],
      "execution_count": 0,
      "outputs": []
    },
    {
      "cell_type": "code",
      "metadata": {
        "id": "fPKw0RD34xWE",
        "colab_type": "code",
        "outputId": "032c7f87-2bb3-4c3b-8042-e34678b5a180",
        "colab": {}
      },
      "source": [
        "layout =go.Layout(\n",
        "    title = 'Student Exam Scores : Math',\n",
        "    dragmode='select',\n",
        "    width=600,\n",
        "    height=600,\n",
        "    autosize=False,\n",
        "    hovermode='closest',\n",
        "    plot_bgcolor='rgba(240,240,240,0.95)',\n",
        "    xaxis1=dict(axis),\n",
        "    xaxis2=dict(axis),\n",
        "    xaxis3=dict(axis),\n",
        "    xaxis4=dict(axis),\n",
        "    yaxis1=dict(axis),\n",
        "    yaxis2=dict(axis),\n",
        "    yaxis3=dict(axis),\n",
        "    yaxis4=dict(axis)\n",
        ")\n",
        "\n",
        "fig1 = dict(data=[trace1], layout=layout)\n",
        "\n",
        "url1 = py.plot(fig1, filename='Splom-Scores', auto_open=False)\n",
        "\n",
        "py.iplot(fig1, filename='Splom-Scores')"
      ],
      "execution_count": 0,
      "outputs": [
        {
          "output_type": "stream",
          "text": [
            "/Users/ethanpeterson/anaconda3/lib/python3.7/site-packages/IPython/core/display.py:689: UserWarning:\n",
            "\n",
            "Consider using IPython.display.IFrame instead\n",
            "\n"
          ],
          "name": "stderr"
        },
        {
          "output_type": "execute_result",
          "data": {
            "text/html": [
              "<iframe id=\"igraph\" scrolling=\"no\" style=\"border:none;\" seamless=\"seamless\" src=\"https://plot.ly/~epete358/2.embed\" height=\"600px\" width=\"600px\"></iframe>"
            ],
            "text/plain": [
              "<chart_studio.tools.PlotlyDisplay object>"
            ]
          },
          "metadata": {
            "tags": []
          },
          "execution_count": 357
        }
      ]
    },
    {
      "cell_type": "code",
      "metadata": {
        "id": "-M54IRV34xWd",
        "colab_type": "code",
        "outputId": "a0c368c5-0b5b-4e07-ea18-c1049f0f11e8",
        "colab": {}
      },
      "source": [
        "url1"
      ],
      "execution_count": 0,
      "outputs": [
        {
          "output_type": "execute_result",
          "data": {
            "text/plain": [
              "'https://plot.ly/~epete358/2'"
            ]
          },
          "metadata": {
            "tags": []
          },
          "execution_count": 358
        }
      ]
    },
    {
      "cell_type": "code",
      "metadata": {
        "id": "ybKFte8d4xWx",
        "colab_type": "code",
        "outputId": "be645137-9852-403e-e0d9-c2c4695fe7d6",
        "colab": {}
      },
      "source": [
        "_0_ = df[df['parental level of education']==0]\n",
        "_1_ = df[df['parental level of education']==1]\n",
        "_2_ = df[df['parental level of education']==2]\n",
        "_3_ = df[df['parental level of education']==3]\n",
        "_4_ = df[df['parental level of education']==4]\n",
        "_5_ = df[df['parental level of education']==5]\n",
        "\n",
        "trace0 = go.Box(y=_0_,\n",
        "               name='Some HS')\n",
        "trace1 = go.Box(y=_1_,\n",
        "               name='HS')\n",
        "trace2 = go.Box(y=_2_,\n",
        "               name='Associate')\n",
        "trace3 = go.Box(y=_3_,\n",
        "               name='Some College')\n",
        "trace4 = go.Box(y=_4_,\n",
        "               name='Bachelors')\n",
        "trace5 = go.Box(y=_5_,\n",
        "               name='Masters')\n",
        "\n",
        "data = [trace0,trace1,trace2,trace3,trace4,trace5]\n",
        "\n",
        "layout = go.Layout(title=\"Exam Scores Based on Parent's Level of Education\")\n",
        "\n",
        "fig = go.Figure(data=data, layout=layout)\n",
        "\n",
        "py.iplot(fig, filename=\"BoxPlotforParEdu\")\n"
      ],
      "execution_count": 0,
      "outputs": [
        {
          "output_type": "stream",
          "text": [
            "/Users/ethanpeterson/anaconda3/lib/python3.7/site-packages/IPython/core/display.py:689: UserWarning:\n",
            "\n",
            "Consider using IPython.display.IFrame instead\n",
            "\n"
          ],
          "name": "stderr"
        },
        {
          "output_type": "execute_result",
          "data": {
            "text/html": [
              "<iframe id=\"igraph\" scrolling=\"no\" style=\"border:none;\" seamless=\"seamless\" src=\"https://plot.ly/~epete358/17.embed\" height=\"525px\" width=\"100%\"></iframe>"
            ],
            "text/plain": [
              "<chart_studio.tools.PlotlyDisplay object>"
            ]
          },
          "metadata": {
            "tags": []
          },
          "execution_count": 359
        }
      ]
    },
    {
      "cell_type": "code",
      "metadata": {
        "id": "xP6Deffh4xZf",
        "colab_type": "code",
        "outputId": "d2ee259f-84db-4be3-b91b-a571dd5d23ff",
        "colab": {}
      },
      "source": [
        "male = df[df['gender']==1]\n",
        "female = df[df['gender']==0]\n",
        "\n",
        "trace1 = go.Bar(\n",
        "            x=[\"Female\"],\n",
        "            y=[female['math score'].mean()],\n",
        "            name=\"Female\"\n",
        ")\n",
        "trace2 = go.Bar(\n",
        "            x=[ 'Male'],\n",
        "            y=[male['math score'].mean()],\n",
        "            name='Male'\n",
        ")\n",
        "layout = go.Layout(\n",
        "            title=\"Average Math Exam Scores For Each Gender\")\n",
        "data1 =[trace1, trace2]\n",
        "fig = go.Figure(data=data1, layout=layout)\n",
        "\n",
        "url3 = py.iplot(fig, filename='Male Vs Female Math Scores-Bar')"
      ],
      "execution_count": 0,
      "outputs": [
        {
          "output_type": "stream",
          "text": [
            "/Users/ethanpeterson/anaconda3/lib/python3.7/site-packages/IPython/core/display.py:689: UserWarning:\n",
            "\n",
            "Consider using IPython.display.IFrame instead\n",
            "\n"
          ],
          "name": "stderr"
        }
      ]
    },
    {
      "cell_type": "code",
      "metadata": {
        "id": "iFC5Fcrq4xZx",
        "colab_type": "code",
        "outputId": "6877d78f-5996-4771-836f-0754e8531462",
        "colab": {}
      },
      "source": [
        "male = org[org['gender']==1]\n",
        "female = org[org['gender']==0]\n",
        "\n",
        "\n",
        "hist_data = [female['math score']]\n",
        "group_labels = ['Female Scores']\n",
        "\n",
        "fig = ff.create_distplot(hist_data, group_labels)\n",
        "fig['layout'].update(title='Distribution of Female Math Scores')\n",
        "\n",
        "url4 = py.plot(data, filename='Female Math Scores', auto_open=False)\n",
        "py.iplot(fig, filename='Female Math Scores')"
      ],
      "execution_count": 0,
      "outputs": [
        {
          "output_type": "stream",
          "text": [
            "/Users/ethanpeterson/anaconda3/lib/python3.7/site-packages/IPython/core/display.py:689: UserWarning:\n",
            "\n",
            "Consider using IPython.display.IFrame instead\n",
            "\n"
          ],
          "name": "stderr"
        },
        {
          "output_type": "execute_result",
          "data": {
            "text/html": [
              "<iframe id=\"igraph\" scrolling=\"no\" style=\"border:none;\" seamless=\"seamless\" src=\"https://plot.ly/~epete358/24.embed\" height=\"525px\" width=\"100%\"></iframe>"
            ],
            "text/plain": [
              "<chart_studio.tools.PlotlyDisplay object>"
            ]
          },
          "metadata": {
            "tags": []
          },
          "execution_count": 361
        }
      ]
    },
    {
      "cell_type": "markdown",
      "metadata": {
        "id": "1K3Wa92h4xb5",
        "colab_type": "raw"
      },
      "source": [
        ""
      ]
    },
    {
      "cell_type": "code",
      "metadata": {
        "scrolled": true,
        "id": "7jH36oV14xb8",
        "colab_type": "code",
        "outputId": "48f38545-3f02-4f6a-f489-da23411c2b19",
        "colab": {}
      },
      "source": [
        "\n",
        "\n",
        "hist_data = [male['math score']]\n",
        "group_labels = ['Male Scores']\n",
        "\n",
        "fig = ff.create_distplot(hist_data, group_labels)\n",
        "fig['layout'].update(title='Distribution of Male Math Scores')\n",
        "\n",
        "url5 = py.plot(data, filename='Male Math Scores', auto_open=False)\n",
        "url5 = py.iplot(fig, filename='Male Math Scores')"
      ],
      "execution_count": 0,
      "outputs": [
        {
          "output_type": "stream",
          "text": [
            "/Users/ethanpeterson/anaconda3/lib/python3.7/site-packages/IPython/core/display.py:689: UserWarning:\n",
            "\n",
            "Consider using IPython.display.IFrame instead\n",
            "\n"
          ],
          "name": "stderr"
        }
      ]
    },
    {
      "cell_type": "markdown",
      "metadata": {
        "id": "S2gwgh0M4xcY",
        "colab_type": "text"
      },
      "source": [
        "#### The visualizations suggest there is relationship between level of education of the parents and their childrens math exam scores.  Although not a sizeable difference, males seem to score higher on their math exams on average.  \n",
        "\n",
        "\n",
        "\n",
        "\n",
        "# Dimensionality Reduction\n",
        "\n"
      ]
    },
    {
      "cell_type": "code",
      "metadata": {
        "id": "0MltUmZc4xcb",
        "colab_type": "code",
        "colab": {}
      },
      "source": [
        "from sklearn.decomposition import PCA\n",
        "from sklearn.preprocessing import StandardScaler\n",
        "import seaborn as sns"
      ],
      "execution_count": 0,
      "outputs": []
    },
    {
      "cell_type": "code",
      "metadata": {
        "id": "qfror8_H4xdE",
        "colab_type": "code",
        "outputId": "43ce4541-af2c-4bc5-aff0-07e965e01db4",
        "colab": {}
      },
      "source": [
        "x = org[['gender', 'race/ethnicity', 'parental level of education', 'lunch',\n",
        "       'test preparation course', 'reading score',\n",
        "       'writing score']]\n",
        "x = StandardScaler().fit_transform(x)"
      ],
      "execution_count": 0,
      "outputs": [
        {
          "output_type": "stream",
          "text": [
            "/Users/ethanpeterson/anaconda3/lib/python3.7/site-packages/sklearn/preprocessing/data.py:645: DataConversionWarning:\n",
            "\n",
            "Data with input dtype int64 were all converted to float64 by StandardScaler.\n",
            "\n",
            "/Users/ethanpeterson/anaconda3/lib/python3.7/site-packages/sklearn/base.py:464: DataConversionWarning:\n",
            "\n",
            "Data with input dtype int64 were all converted to float64 by StandardScaler.\n",
            "\n"
          ],
          "name": "stderr"
        }
      ]
    },
    {
      "cell_type": "code",
      "metadata": {
        "id": "wG7VKvB04xdZ",
        "colab_type": "code",
        "colab": {}
      },
      "source": [
        "pca = PCA(n_components=2)\n",
        "pc = pca.fit_transform(x)\n",
        "pca.explained_variance_ratio_\n",
        "pcDF = pd.DataFrame(data=pc, columns=['pc1', 'pc2'])"
      ],
      "execution_count": 0,
      "outputs": []
    },
    {
      "cell_type": "code",
      "metadata": {
        "id": "Aqj8fR5o4xdl",
        "colab_type": "code",
        "outputId": "edcde944-81ab-4dd2-89ad-226eef248d15",
        "colab": {}
      },
      "source": [
        "pcDF['math score'] = org['math score']\n",
        "\n",
        "pcDF.head()"
      ],
      "execution_count": 0,
      "outputs": [
        {
          "output_type": "execute_result",
          "data": {
            "text/html": [
              "<div>\n",
              "<style scoped>\n",
              "    .dataframe tbody tr th:only-of-type {\n",
              "        vertical-align: middle;\n",
              "    }\n",
              "\n",
              "    .dataframe tbody tr th {\n",
              "        vertical-align: top;\n",
              "    }\n",
              "\n",
              "    .dataframe thead th {\n",
              "        text-align: right;\n",
              "    }\n",
              "</style>\n",
              "<table border=\"1\" class=\"dataframe\">\n",
              "  <thead>\n",
              "    <tr style=\"text-align: right;\">\n",
              "      <th></th>\n",
              "      <th>pc1</th>\n",
              "      <th>pc2</th>\n",
              "      <th>math score</th>\n",
              "    </tr>\n",
              "  </thead>\n",
              "  <tbody>\n",
              "    <tr>\n",
              "      <th>0</th>\n",
              "      <td>-0.678974</td>\n",
              "      <td>0.661588</td>\n",
              "      <td>72</td>\n",
              "    </tr>\n",
              "    <tr>\n",
              "      <th>1</th>\n",
              "      <td>-2.381472</td>\n",
              "      <td>-0.940021</td>\n",
              "      <td>69</td>\n",
              "    </tr>\n",
              "    <tr>\n",
              "      <th>2</th>\n",
              "      <td>-2.563142</td>\n",
              "      <td>0.959834</td>\n",
              "      <td>90</td>\n",
              "    </tr>\n",
              "    <tr>\n",
              "      <th>3</th>\n",
              "      <td>2.405414</td>\n",
              "      <td>0.392110</td>\n",
              "      <td>47</td>\n",
              "    </tr>\n",
              "    <tr>\n",
              "      <th>4</th>\n",
              "      <td>-0.330433</td>\n",
              "      <td>-0.295413</td>\n",
              "      <td>76</td>\n",
              "    </tr>\n",
              "  </tbody>\n",
              "</table>\n",
              "</div>"
            ],
            "text/plain": [
              "        pc1       pc2  math score\n",
              "0 -0.678974  0.661588          72\n",
              "1 -2.381472 -0.940021          69\n",
              "2 -2.563142  0.959834          90\n",
              "3  2.405414  0.392110          47\n",
              "4 -0.330433 -0.295413          76"
            ]
          },
          "metadata": {
            "tags": []
          },
          "execution_count": 366
        }
      ]
    },
    {
      "cell_type": "code",
      "metadata": {
        "id": "z6pUzp3S4xd-",
        "colab_type": "code",
        "outputId": "4c7da571-54ad-463e-d30e-44d1c9680ddc",
        "colab": {}
      },
      "source": [
        "sns.lmplot(x='pc1', y='pc2', hue='math score', data=pcDF, fit_reg=False)\n"
      ],
      "execution_count": 0,
      "outputs": [
        {
          "output_type": "execute_result",
          "data": {
            "text/plain": [
              "<seaborn.axisgrid.FacetGrid at 0x1c2363f978>"
            ]
          },
          "metadata": {
            "tags": []
          },
          "execution_count": 367
        },
        {
          "output_type": "display_data",
          "data": {
            "image/png": "[encoded data removed]",
            "text/plain": [
              "<Figure size 424.125x360 with 1 Axes>"
            ]
          },
          "metadata": {
            "tags": [],
            "needs_background": "light"
          }
        }
      ]
    },
    {
      "cell_type": "code",
      "metadata": {
        "id": "55KFL6lD4xeP",
        "colab_type": "code",
        "colab": {}
      },
      "source": [
        "import plotly.dashboard_objs as dashboard\n",
        "\n",
        "import IPython.display\n",
        "from IPython.display import Image\n",
        "\n",
        "my_dboard = dashboard.Dashboard()\n"
      ],
      "execution_count": 0,
      "outputs": []
    },
    {
      "cell_type": "code",
      "metadata": {
        "id": "73gMeDTM4xeW",
        "colab_type": "code",
        "colab": {}
      },
      "source": [
        "\n",
        "box_a = {\n",
        "    'type': 'box',\n",
        "    'boxType': 'plot',\n",
        "    'fileId': \"epete358:2\",\n",
        "    'title': 'Scatter Plot Matrix '\n",
        "}\n",
        "box_b = {\n",
        "    'type': 'box',\n",
        "    'boxType': 'plot',\n",
        "    'fileId': \"epete358:17\",\n",
        "    'title': 'BoxPlot - Parental Level of Education'\n",
        "}\n",
        "box_c = {\n",
        "    'type': 'box',\n",
        "    'boxType': 'plot',\n",
        "    'fileId': \"epete358:22\",\n",
        "    'title': 'Distribution of Math Scores for Males'\n",
        "}\n",
        "box_d = {\n",
        "    'type': 'box',\n",
        "    'boxType': 'plot',\n",
        "    'fileId': \"epete358:24\",\n",
        "    'title': 'Distribution of Math Scores for Females'\n",
        "}\n",
        "box_e = {\n",
        "    'type': 'box',\n",
        "    'boxType': 'plot',\n",
        "    'fileId': \"epete358:19\",\n",
        "    'title': 'Bar Chart - Male and Female Math Scores'\n",
        "}\n",
        "                      \n",
        "\n",
        "\n"
      ],
      "execution_count": 0,
      "outputs": []
    },
    {
      "cell_type": "code",
      "metadata": {
        "scrolled": true,
        "id": "RVE3TK354xec",
        "colab_type": "code",
        "outputId": "d1c55d81-ef34-4916-9a7a-a850a11380e5",
        "colab": {}
      },
      "source": [
        "my_dboard.insert(box_b)\n",
        "my_dboard.get_preview()"
      ],
      "execution_count": 0,
      "outputs": [
        {
          "output_type": "execute_result",
          "data": {
            "text/html": [
              "\n",
              "<!DOCTYPE HTML>\n",
              "<html>\n",
              "  <head>\n",
              "    <style>\n",
              "      body {\n",
              "        margin: 0px;\n",
              "        padding: 0px;\n",
              "      }\n",
              "    </style>\n",
              "  </head>\n",
              "  <body>\n",
              "    <canvas id=\"myCanvas\" width=\"500\" height=\"500\"></canvas>\n",
              "    <script>\n",
              "      var canvas = document.getElementById('myCanvas');\n",
              "      var context = canvas.getContext('2d');\n",
              "      <!-- Dashboard -->\n",
              "      context.beginPath();\n",
              "      context.rect(0, 0, 500, 500);\n",
              "      context.lineWidth = 2;\n",
              "      context.strokeStyle = 'black';\n",
              "      context.stroke();\n",
              "     <!-- Draw some lines in -->\n",
              "          context.beginPath();\n",
              "          context.rect(250.0, 0, 1, 500);\n",
              "          context.lineWidth = 1;\n",
              "          context.strokeStyle = 'black';\n",
              "          context.stroke();\n",
              "    <!-- Insert box numbers -->\n",
              "          context.font = '9pt Times New Roman';\n",
              "          context.textAlign = 'center';\n",
              "          context.fillText(1, 0 + 0.5*250.0, 0 + 0.5*500);\n",
              "    <!-- Insert box numbers -->\n",
              "          context.font = '9pt Times New Roman';\n",
              "          context.textAlign = 'center';\n",
              "          context.fillText(2, 250.0 + 0.5*250.0, 0 + 0.5*500);\n",
              "     </script>\n",
              "  </body>\n",
              "</html>\n"
            ],
            "text/plain": [
              "<IPython.core.display.HTML object>"
            ]
          },
          "metadata": {
            "tags": []
          },
          "execution_count": 374
        }
      ]
    },
    {
      "cell_type": "code",
      "metadata": {
        "id": "9dQxdCLW4xer",
        "colab_type": "code",
        "colab": {}
      },
      "source": [
        "my_dboard.insert(box_e, 'below', 1)"
      ],
      "execution_count": 0,
      "outputs": []
    },
    {
      "cell_type": "code",
      "metadata": {
        "id": "xzMdGQwF4xe2",
        "colab_type": "code",
        "colab": {}
      },
      "source": [
        "my_dboard.insert(box_a, 'left', 1)"
      ],
      "execution_count": 0,
      "outputs": []
    },
    {
      "cell_type": "code",
      "metadata": {
        "collapsed": true,
        "id": "boZeX07T4xe8",
        "colab_type": "code",
        "outputId": "f02776c1-0ab3-45b6-d966-ad7b358f132e",
        "colab": {}
      },
      "source": [
        "my_dboard.insert(box_d, 'right', 3, fill_percent=65)"
      ],
      "execution_count": 0,
      "outputs": [
        {
          "output_type": "error",
          "ename": "PlotlyError",
          "evalue": "Your box_id must be a number in your dashboard. To view a representation of your dashboard run get_preview().",
          "traceback": [
            "\u001b[0;31m---------------------------------------------------------------------------\u001b[0m",
            "\u001b[0;31mPlotlyError\u001b[0m                               Traceback (most recent call last)",
            "\u001b[0;32m<ipython-input-373-f50d2790e947>\u001b[0m in \u001b[0;36m<module>\u001b[0;34m\u001b[0m\n\u001b[0;32m----> 1\u001b[0;31m \u001b[0mmy_dboard\u001b[0m\u001b[0;34m.\u001b[0m\u001b[0minsert\u001b[0m\u001b[0;34m(\u001b[0m\u001b[0mbox_d\u001b[0m\u001b[0;34m,\u001b[0m \u001b[0;34m'right'\u001b[0m\u001b[0;34m,\u001b[0m \u001b[0;36m3\u001b[0m\u001b[0;34m,\u001b[0m \u001b[0mfill_percent\u001b[0m\u001b[0;34m=\u001b[0m\u001b[0;36m65\u001b[0m\u001b[0;34m)\u001b[0m\u001b[0;34m\u001b[0m\u001b[0;34m\u001b[0m\u001b[0m\n\u001b[0m",
            "\u001b[0;32m~/anaconda3/lib/python3.7/site-packages/plotly/dashboard_objs/dashboard_objs.py\u001b[0m in \u001b[0;36minsert\u001b[0;34m(self, box, side, box_id, fill_percent)\u001b[0m\n\u001b[1;32m    491\u001b[0m                 )\n\u001b[1;32m    492\u001b[0m             \u001b[0;32mif\u001b[0m \u001b[0mbox_id\u001b[0m \u001b[0;32mnot\u001b[0m \u001b[0;32min\u001b[0m \u001b[0mbox_ids_to_path\u001b[0m\u001b[0;34m:\u001b[0m\u001b[0;34m\u001b[0m\u001b[0;34m\u001b[0m\u001b[0m\n\u001b[0;32m--> 493\u001b[0;31m                 \u001b[0;32mraise\u001b[0m \u001b[0mexceptions\u001b[0m\u001b[0;34m.\u001b[0m\u001b[0mPlotlyError\u001b[0m\u001b[0;34m(\u001b[0m\u001b[0mID_NOT_VALID_MESSAGE\u001b[0m\u001b[0;34m)\u001b[0m\u001b[0;34m\u001b[0m\u001b[0;34m\u001b[0m\u001b[0m\n\u001b[0m\u001b[1;32m    494\u001b[0m \u001b[0;34m\u001b[0m\u001b[0m\n\u001b[1;32m    495\u001b[0m             \u001b[0;32mif\u001b[0m \u001b[0mfill_percent\u001b[0m \u001b[0;34m<\u001b[0m \u001b[0;36m0\u001b[0m \u001b[0;32mor\u001b[0m \u001b[0mfill_percent\u001b[0m \u001b[0;34m>\u001b[0m \u001b[0;36m100\u001b[0m\u001b[0;34m:\u001b[0m\u001b[0;34m\u001b[0m\u001b[0;34m\u001b[0m\u001b[0m\n",
            "\u001b[0;31mPlotlyError\u001b[0m: Your box_id must be a number in your dashboard. To view a representation of your dashboard run get_preview()."
          ]
        }
      ]
    },
    {
      "cell_type": "code",
      "metadata": {
        "id": "enLgODeQ4xfG",
        "colab_type": "code",
        "colab": {}
      },
      "source": [
        "my_dboard.insert(box_c, 'below', 4)"
      ],
      "execution_count": 0,
      "outputs": []
    },
    {
      "cell_type": "code",
      "metadata": {
        "id": "lFv6mwN84xfX",
        "colab_type": "code",
        "colab": {}
      },
      "source": [
        "my_dboard['settings']['title'] = 'Visualizations for Math Test Scores'\n"
      ],
      "execution_count": 0,
      "outputs": []
    },
    {
      "cell_type": "code",
      "metadata": {
        "id": "ISrCtXg24xfo",
        "colab_type": "code",
        "colab": {}
      },
      "source": [
        "py.sign_in('epete358', 'WaYNnSbvaKPMpMni0QEs')"
      ],
      "execution_count": 0,
      "outputs": []
    },
    {
      "cell_type": "code",
      "metadata": {
        "id": "tI4azqkP4xfw",
        "colab_type": "code",
        "colab": {}
      },
      "source": [
        "py.dashboard_ops.upload(my_dboard, 'Visualizations for Math Test Scores')"
      ],
      "execution_count": 0,
      "outputs": []
    },
    {
      "cell_type": "code",
      "metadata": {
        "id": "h0ELVVlQ4xf_",
        "colab_type": "code",
        "colab": {}
      },
      "source": [
        "# Link for Dashboard https://plot.ly/~byruzyayandy/7/visualizations-for-math-test-scores/"
      ],
      "execution_count": 0,
      "outputs": []
    }
  ]
}